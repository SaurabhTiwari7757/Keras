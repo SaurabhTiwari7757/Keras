{
  "nbformat": 4,
  "nbformat_minor": 0,
  "metadata": {
    "colab": {
      "provenance": [],
      "mount_file_id": "1Fe6J8iCgqtYTg9dJu3MTApwCD5roVOOI",
      "authorship_tag": "ABX9TyN6Wqas0ag8En1twLIRcKQ9",
      "include_colab_link": true
    },
    "kernelspec": {
      "name": "python3",
      "display_name": "Python 3"
    },
    "language_info": {
      "name": "python"
    },
    "gpuClass": "standard",
    "accelerator": "GPU"
  },
  "cells": [
    {
      "cell_type": "markdown",
      "metadata": {
        "id": "view-in-github",
        "colab_type": "text"
      },
      "source": [
        "<a href=\"https://colab.research.google.com/github/SaurabhTiwari7757/Keras/blob/main/Digit_Recognition.ipynb\" target=\"_parent\"><img src=\"https://colab.research.google.com/assets/colab-badge.svg\" alt=\"Open In Colab\"/></a>"
      ]
    },
    {
      "cell_type": "code",
      "source": [
        "from google.colab import drive\n",
        "drive.mount('/content/drive')"
      ],
      "metadata": {
        "colab": {
          "base_uri": "https://localhost:8080/"
        },
        "id": "KYU-o98N8x-T",
        "outputId": "922c4b83-43fd-4c37-8935-a28fdfe7fb1a"
      },
      "execution_count": 1,
      "outputs": [
        {
          "output_type": "stream",
          "name": "stdout",
          "text": [
            "Drive already mounted at /content/drive; to attempt to forcibly remount, call drive.mount(\"/content/drive\", force_remount=True).\n"
          ]
        }
      ]
    },
    {
      "cell_type": "code",
      "source": [
        "import numpy as np\n",
        "import pandas as pd"
      ],
      "metadata": {
        "id": "I0q_gJyb-ncw"
      },
      "execution_count": 2,
      "outputs": []
    },
    {
      "cell_type": "code",
      "source": [
        "import matplotlib.pyplot as plt"
      ],
      "metadata": {
        "id": "sh3s_oVp-qw_"
      },
      "execution_count": 3,
      "outputs": []
    },
    {
      "cell_type": "code",
      "source": [
        "import tensorflow\n",
        "from tensorflow import keras\n",
        "from tensorflow.keras import Sequential"
      ],
      "metadata": {
        "id": "uxuX6kS5_3DF"
      },
      "execution_count": 61,
      "outputs": []
    },
    {
      "cell_type": "code",
      "source": [
        "from tensorflow.keras.layers import Flatten, Dense"
      ],
      "metadata": {
        "id": "O3-Ic6cMHVd5"
      },
      "execution_count": 62,
      "outputs": []
    },
    {
      "cell_type": "code",
      "source": [
        "(X_train,Y_train),(X_test,Y_test)= keras.datasets.mnist.load_data()   "
      ],
      "metadata": {
        "id": "c6CjV3s5JO2H"
      },
      "execution_count": 63,
      "outputs": []
    },
    {
      "cell_type": "code",
      "source": [
        "print(X_train.shape)\n",
        "print(X_test.shape)\n",
        "print(Y_train.shape)\n",
        "print(Y_test.shape)"
      ],
      "metadata": {
        "colab": {
          "base_uri": "https://localhost:8080/"
        },
        "id": "UzWTJjeJJZ4s",
        "outputId": "fa403b90-ffc8-4707-d46d-a92f9e4fea7e"
      },
      "execution_count": 64,
      "outputs": [
        {
          "output_type": "stream",
          "name": "stdout",
          "text": [
            "(60000, 28, 28)\n",
            "(10000, 28, 28)\n",
            "(60000,)\n",
            "(10000,)\n"
          ]
        }
      ]
    },
    {
      "cell_type": "code",
      "source": [
        "plt.imshow(X_train[0])"
      ],
      "metadata": {
        "colab": {
          "base_uri": "https://localhost:8080/",
          "height": 282
        },
        "id": "5oSXMBc-Jy2j",
        "outputId": "ff01a03d-0e6d-4cdc-c854-078d0c753995"
      },
      "execution_count": 65,
      "outputs": [
        {
          "output_type": "execute_result",
          "data": {
            "text/plain": [
              "<matplotlib.image.AxesImage at 0x7faa6910c9a0>"
            ]
          },
          "metadata": {},
          "execution_count": 65
        },
        {
          "output_type": "display_data",
          "data": {
            "text/plain": [
              "<Figure size 432x288 with 1 Axes>"
            ],
            "image/png": "[encoded data removed]"
          },
          "metadata": {
            "needs_background": "light"
          }
        }
      ]
    },
    {
      "cell_type": "code",
      "source": [
        "Y_train[0]"
      ],
      "metadata": {
        "colab": {
          "base_uri": "https://localhost:8080/"
        },
        "id": "CaBQU2voKSgM",
        "outputId": "95d98911-9f83-406e-9343-c3e3f2c8c821"
      },
      "execution_count": 66,
      "outputs": [
        {
          "output_type": "execute_result",
          "data": {
            "text/plain": [
              "5"
            ]
          },
          "metadata": {},
          "execution_count": 66
        }
      ]
    },
    {
      "cell_type": "code",
      "source": [
        "X_train = X_train/255\n",
        "X_test = X_test/255"
      ],
      "metadata": {
        "id": "CgqwcJ4GKifY"
      },
      "execution_count": 67,
      "outputs": []
    },
    {
      "cell_type": "code",
      "source": [
        "model = Sequential()"
      ],
      "metadata": {
        "id": "_b8rhSvMK-u4"
      },
      "execution_count": 68,
      "outputs": []
    },
    {
      "cell_type": "code",
      "source": [
        "model.add(Flatten(input_shape = (28,28)))\n",
        "model.add(Dense(128,activation = 'relu'))\n",
        "model.add(Dense(10,activation = 'softmax'))"
      ],
      "metadata": {
        "id": "QuhvtHiILFha"
      },
      "execution_count": 69,
      "outputs": []
    },
    {
      "cell_type": "code",
      "source": [
        "model.summary()"
      ],
      "metadata": {
        "colab": {
          "base_uri": "https://localhost:8080/"
        },
        "id": "e8pXVoiAL_19",
        "outputId": "a7cfe62f-3913-4b8f-e67c-7b322cc85b1c"
      },
      "execution_count": 70,
      "outputs": [
        {
          "output_type": "stream",
          "name": "stdout",
          "text": [
            "Model: \"sequential_2\"\n",
            "_________________________________________________________________\n",
            " Layer (type)                Output Shape              Param #   \n",
            "=================================================================\n",
            " flatten_2 (Flatten)         (None, 784)               0         \n",
            "                                                                 \n",
            " dense_4 (Dense)             (None, 128)               100480    \n",
            "                                                                 \n",
            " dense_5 (Dense)             (None, 10)                1290      \n",
            "                                                                 \n",
            "=================================================================\n",
            "Total params: 101,770\n",
            "Trainable params: 101,770\n",
            "Non-trainable params: 0\n",
            "_________________________________________________________________\n"
          ]
        }
      ]
    },
    {
      "cell_type": "code",
      "source": [
        "model.compile(optimizer = 'Adam' , loss = 'sparse_categorical_crossentropy', metrics = ['accuracy'])"
      ],
      "metadata": {
        "id": "vngYq1BaMjrZ"
      },
      "execution_count": 71,
      "outputs": []
    },
    {
      "cell_type": "code",
      "source": [
        "history = model.fit(X_train, Y_train, batch_size = 64 , epochs=10, validation_split=0.2, verbose = 1)"
      ],
      "metadata": {
        "colab": {
          "base_uri": "https://localhost:8080/"
        },
        "id": "yTF8K2C3M5hh",
        "outputId": "8177af64-0b49-4f5b-f3a9-6d577106fa54"
      },
      "execution_count": 72,
      "outputs": [
        {
          "output_type": "stream",
          "name": "stdout",
          "text": [
            "Epoch 1/10\n",
            "750/750 [==============================] - 3s 3ms/step - loss: 0.3311 - accuracy: 0.9085 - val_loss: 0.1863 - val_accuracy: 0.9451\n",
            "Epoch 2/10\n",
            "750/750 [==============================] - 2s 3ms/step - loss: 0.1517 - accuracy: 0.9560 - val_loss: 0.1348 - val_accuracy: 0.9627\n",
            "Epoch 3/10\n",
            "750/750 [==============================] - 2s 3ms/step - loss: 0.1052 - accuracy: 0.9695 - val_loss: 0.1098 - val_accuracy: 0.9688\n",
            "Epoch 4/10\n",
            "750/750 [==============================] - 2s 3ms/step - loss: 0.0803 - accuracy: 0.9768 - val_loss: 0.0994 - val_accuracy: 0.9714\n",
            "Epoch 5/10\n",
            "750/750 [==============================] - 2s 3ms/step - loss: 0.0630 - accuracy: 0.9825 - val_loss: 0.0934 - val_accuracy: 0.9728\n",
            "Epoch 6/10\n",
            "750/750 [==============================] - 2s 3ms/step - loss: 0.0509 - accuracy: 0.9849 - val_loss: 0.0893 - val_accuracy: 0.9737\n",
            "Epoch 7/10\n",
            "750/750 [==============================] - 2s 3ms/step - loss: 0.0410 - accuracy: 0.9880 - val_loss: 0.0921 - val_accuracy: 0.9725\n",
            "Epoch 8/10\n",
            "750/750 [==============================] - 2s 3ms/step - loss: 0.0325 - accuracy: 0.9908 - val_loss: 0.0966 - val_accuracy: 0.9717\n",
            "Epoch 9/10\n",
            "750/750 [==============================] - 2s 3ms/step - loss: 0.0271 - accuracy: 0.9926 - val_loss: 0.1001 - val_accuracy: 0.9724\n",
            "Epoch 10/10\n",
            "750/750 [==============================] - 2s 3ms/step - loss: 0.0227 - accuracy: 0.9938 - val_loss: 0.0879 - val_accuracy: 0.9751\n"
          ]
        }
      ]
    },
    {
      "cell_type": "code",
      "source": [
        "model.evaluate(X_test,Y_test)"
      ],
      "metadata": {
        "colab": {
          "base_uri": "https://localhost:8080/"
        },
        "id": "2RtlnWDyNQ76",
        "outputId": "98169590-c1ab-4114-bdeb-48b1eeeef94d"
      },
      "execution_count": 73,
      "outputs": [
        {
          "output_type": "stream",
          "name": "stdout",
          "text": [
            "313/313 [==============================] - 1s 2ms/step - loss: 0.0778 - accuracy: 0.9773\n"
          ]
        },
        {
          "output_type": "execute_result",
          "data": {
            "text/plain": [
              "[0.07781842350959778, 0.9772999882698059]"
            ]
          },
          "metadata": {},
          "execution_count": 73
        }
      ]
    },
    {
      "cell_type": "code",
      "source": [
        "model.predict(X_test)"
      ],
      "metadata": {
        "colab": {
          "base_uri": "https://localhost:8080/"
        },
        "id": "84f9UYLoNeY2",
        "outputId": "f8ced2dd-37c8-44f4-97f4-015cdc5fe118"
      },
      "execution_count": 74,
      "outputs": [
        {
          "output_type": "stream",
          "name": "stdout",
          "text": [
            "313/313 [==============================] - 0s 1ms/step\n"
          ]
        },
        {
          "output_type": "execute_result",
          "data": {
            "text/plain": [
              "array([[1.4578012e-09, 5.9537965e-11, 6.0791456e-07, ..., 9.9997699e-01,\n",
              "        1.8891971e-08, 2.2325396e-07],\n",
              "       [1.3029856e-09, 6.9378245e-07, 9.9999917e-01, ..., 1.8652180e-15,\n",
              "        1.0994624e-07, 5.2765879e-15],\n",
              "       [3.0764165e-06, 9.9638128e-01, 8.4574996e-05, ..., 1.5488962e-03,\n",
              "        1.7823639e-03, 2.5935404e-05],\n",
              "       ...,\n",
              "       [2.5036497e-14, 2.6484091e-14, 7.0095394e-13, ..., 3.4621701e-07,\n",
              "        1.0697099e-09, 5.7915084e-08],\n",
              "       [1.0331784e-12, 2.2562957e-15, 2.1263895e-14, ..., 8.6952962e-12,\n",
              "        1.5555807e-07, 1.9033375e-13],\n",
              "       [3.1038088e-09, 5.4906466e-12, 8.0746121e-09, ..., 2.5206051e-15,\n",
              "        5.9870803e-11, 1.0709672e-09]], dtype=float32)"
            ]
          },
          "metadata": {},
          "execution_count": 74
        }
      ]
    },
    {
      "cell_type": "code",
      "source": [
        "#model.predict_classes(X_test)"
      ],
      "metadata": {
        "id": "Oq9Qs0KeNn78"
      },
      "execution_count": 75,
      "outputs": []
    },
    {
      "cell_type": "code",
      "source": [
        "predict_x=model.predict(X_test)\n",
        "classes_x=np.argmax(predict_x,axis=1)"
      ],
      "metadata": {
        "colab": {
          "base_uri": "https://localhost:8080/"
        },
        "id": "VPYIwi9KNwoS",
        "outputId": "0a7dadce-9a73-4bd4-bd6d-39702a9a5a47"
      },
      "execution_count": 76,
      "outputs": [
        {
          "output_type": "stream",
          "name": "stdout",
          "text": [
            "313/313 [==============================] - 0s 1ms/step\n"
          ]
        }
      ]
    },
    {
      "cell_type": "code",
      "source": [
        "classes_x"
      ],
      "metadata": {
        "colab": {
          "base_uri": "https://localhost:8080/"
        },
        "id": "3O7z5AV6OnMR",
        "outputId": "cffe12bd-301d-4b66-8cca-b58c3a48e7ce"
      },
      "execution_count": 77,
      "outputs": [
        {
          "output_type": "execute_result",
          "data": {
            "text/plain": [
              "array([7, 2, 1, ..., 4, 5, 6])"
            ]
          },
          "metadata": {},
          "execution_count": 77
        }
      ]
    },
    {
      "cell_type": "code",
      "source": [
        "plt.imshow(X_test[0])"
      ],
      "metadata": {
        "colab": {
          "base_uri": "https://localhost:8080/",
          "height": 282
        },
        "id": "J4E_Ovp3OsPj",
        "outputId": "290c0a69-09c3-484d-c732-cf5613c58f55"
      },
      "execution_count": 78,
      "outputs": [
        {
          "output_type": "execute_result",
          "data": {
            "text/plain": [
              "<matplotlib.image.AxesImage at 0x7fa9ecd364f0>"
            ]
          },
          "metadata": {},
          "execution_count": 78
        },
        {
          "output_type": "display_data",
          "data": {
            "text/plain": [
              "<Figure size 432x288 with 1 Axes>"
            ],
            "image/png": "[encoded data removed]"
          },
          "metadata": {
            "needs_background": "light"
          }
        }
      ]
    },
    {
      "cell_type": "code",
      "source": [
        "plt.plot(history.history['accuracy'])\n",
        "plt.plot(history.history['val_accuracy'])"
      ],
      "metadata": {
        "colab": {
          "base_uri": "https://localhost:8080/",
          "height": 282
        },
        "id": "v3aWOqSvRUYK",
        "outputId": "d5034003-60f3-4da5-9e8f-c670c8c96e40"
      },
      "execution_count": 79,
      "outputs": [
        {
          "output_type": "execute_result",
          "data": {
            "text/plain": [
              "[<matplotlib.lines.Line2D at 0x7fa9ecca0e20>]"
            ]
          },
          "metadata": {},
          "execution_count": 79
        },
        {
          "output_type": "display_data",
          "data": {
            "text/plain": [
              "<Figure size 432x288 with 1 Axes>"
            ],
            "image/png": "[encoded data removed]"
          },
          "metadata": {
            "needs_background": "light"
          }
        }
      ]
    },
    {
      "cell_type": "code",
      "source": [
        "from kerastuner.tuners import RandomSearch"
      ],
      "metadata": {
        "id": "az0SYS1sOy3w"
      },
      "execution_count": 42,
      "outputs": []
    },
    {
      "cell_type": "code",
      "source": [
        "# Objective: To Find:-\n",
        "# Number of hidden layers we should have\n",
        "# Number of neurons we should have\n",
        "# Learning rate"
      ],
      "metadata": {
        "id": "sLVpXy-xPpGX"
      },
      "execution_count": 41,
      "outputs": []
    },
    {
      "cell_type": "code",
      "source": [
        "def buildmodel(cp):\n",
        "    model = keras.Sequential()\n",
        "    for i in range(cp.Int('num layers',2,20)):\n",
        "        model.add(Dense(cp.Int('units_'+str(i),min_value = 32, max_value = 512, step = 32),activation = 'relu'))\n",
        "        model.add(Dense(1, activation = 'softmax'))\n",
        "        model.compile(optimizer = keras.optimizers.Adam(cp.Choice('learning_rate',[1e-2,1e-3,1e-4]))\n",
        "                      , loss=keras.losses.sparse_categorical_crossentropy, metrics = ['accuracy'])\n",
        "        return model"
      ],
      "metadata": {
        "id": "Mwyf-3chP3DV"
      },
      "execution_count": null,
      "outputs": []
    },
    {
      "cell_type": "code",
      "source": [
        "tuner = RandomSearch(buildmodel,\n",
        "                     objective = 'val_accuracy',\n",
        "                     max_trials = 10, \n",
        "                     executions_per_trial =3,\n",
        "                     overwrite = True)\n",
        "tuner.search_space_summary() #Give details of what all searches we are doing"
      ],
      "metadata": {
        "id": "ecPj5uQNP66k"
      },
      "execution_count": null,
      "outputs": []
    },
    {
      "cell_type": "code",
      "source": [
        "#tuner.search(X_train,y_train,epochs = 5, validation_data = (X_test,y_test), callbacks=[tf.keras.callbacks.EarlyStopping(patience=1)])\n",
        "#.search(X_train,y_train,epochs = 5, validation_data = (X_test,y_test))"
      ],
      "metadata": {
        "id": "8eiLBv3iQA8c"
      },
      "execution_count": null,
      "outputs": []
    }
  ]
}